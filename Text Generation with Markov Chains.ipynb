{
 "cells": [
  {
   "cell_type": "markdown",
   "metadata": {},
   "source": [
    "# Text Generation with Markov Chain\n",
    "    - States => Characters\n",
    "    - ngram"
   ]
  },
  {
   "cell_type": "code",
   "execution_count": 12,
   "metadata": {},
   "outputs": [],
   "source": [
    "import numpy as np"
   ]
  },
  {
   "cell_type": "code",
   "execution_count": 28,
   "metadata": {},
   "outputs": [],
   "source": [
    "f = open('../datasets/sherlock.txt')#open('../class_04/face_recognition.py')#\n",
    "text = f.read()\n",
    "f.close()\n"
   ]
  },
  {
   "cell_type": "code",
   "execution_count": 29,
   "metadata": {},
   "outputs": [],
   "source": [
    "# text[:10000]"
   ]
  },
  {
   "cell_type": "code",
   "execution_count": 30,
   "metadata": {},
   "outputs": [],
   "source": [
    "# print(text[:4000])"
   ]
  },
  {
   "cell_type": "code",
   "execution_count": 31,
   "metadata": {},
   "outputs": [
    {
     "data": {
      "text/plain": [
       "3433"
      ]
     },
     "execution_count": 31,
     "metadata": {},
     "output_type": "execute_result"
    }
   ],
   "source": [
    "text.find('In the year')"
   ]
  },
  {
   "cell_type": "code",
   "execution_count": 33,
   "metadata": {},
   "outputs": [],
   "source": [
    "# text[:3433]"
   ]
  },
  {
   "cell_type": "code",
   "execution_count": 34,
   "metadata": {},
   "outputs": [],
   "source": [
    "blob = text[3433:]"
   ]
  },
  {
   "cell_type": "code",
   "execution_count": null,
   "metadata": {},
   "outputs": [],
   "source": [
    "#text.split('\\n')"
   ]
  },
  {
   "cell_type": "code",
   "execution_count": 35,
   "metadata": {},
   "outputs": [],
   "source": [
    "blob = [each.strip() for each in blob.split('\\n') if each]\n",
    "blob = ' '.join(blob)"
   ]
  },
  {
   "cell_type": "code",
   "execution_count": 36,
   "metadata": {},
   "outputs": [
    {
     "data": {
      "text/plain": [
       "21758"
      ]
     },
     "execution_count": 36,
     "metadata": {},
     "output_type": "execute_result"
    }
   ],
   "source": [
    "from nltk.tokenize import word_tokenize\n",
    "len(set(word_tokenize(blob)))"
   ]
  },
  {
   "cell_type": "code",
   "execution_count": 37,
   "metadata": {},
   "outputs": [
    {
     "name": "stdout",
     "output_type": "stream",
     "text": [
      "96\n"
     ]
    }
   ],
   "source": [
    "states = set(blob) # Vocab\n",
    "print(len(states))"
   ]
  },
  {
   "cell_type": "code",
   "execution_count": 38,
   "metadata": {},
   "outputs": [
    {
     "data": {
      "text/plain": [
       "'In the year 1878 I took my degree of Doctor of Medicine of the University of London, and proceeded t'"
      ]
     },
     "execution_count": 38,
     "metadata": {},
     "output_type": "execute_result"
    }
   ],
   "source": [
    "blob[:100]"
   ]
  },
  {
   "cell_type": "code",
   "execution_count": 116,
   "metadata": {},
   "outputs": [],
   "source": [
    "T = {} # Transition Matrix\n",
    "\n",
    "n = 5\n",
    "\n",
    "for i in range(len(blob) - n):\n",
    "    ngram =  blob[i:i+n]\n",
    "    next_state = blob[i+n]\n",
    "    T_context = T.setdefault(ngram, {})\n",
    "    T_context[next_state] = T_context.setdefault(next_state, 0) + 1"
   ]
  },
  {
   "cell_type": "code",
   "execution_count": 117,
   "metadata": {},
   "outputs": [
    {
     "data": {
      "text/plain": [
       "156388"
      ]
     },
     "execution_count": 117,
     "metadata": {},
     "output_type": "execute_result"
    }
   ],
   "source": [
    "len(T.keys())"
   ]
  },
  {
   "cell_type": "code",
   "execution_count": 45,
   "metadata": {},
   "outputs": [],
   "source": [
    "# T"
   ]
  },
  {
   "cell_type": "code",
   "execution_count": 97,
   "metadata": {},
   "outputs": [
    {
     "data": {
      "text/plain": [
       "{'e': 830, 'o': 107, 'a': 44, 'i': 5, 'u': 1, 'l': 11}"
      ]
     },
     "execution_count": 97,
     "metadata": {},
     "output_type": "execute_result"
    }
   ],
   "source": [
    "T['Sh']"
   ]
  },
  {
   "cell_type": "code",
   "execution_count": 118,
   "metadata": {},
   "outputs": [],
   "source": [
    "# Converting to probabilities\n",
    "for row in T:\n",
    "    s = sum(T[row].values())\n",
    "    for val in T[row]:\n",
    "        T[row][val] = T[row][val]/s"
   ]
  },
  {
   "cell_type": "code",
   "execution_count": 100,
   "metadata": {},
   "outputs": [],
   "source": [
    "# T['I']"
   ]
  },
  {
   "cell_type": "code",
   "execution_count": null,
   "metadata": {
    "scrolled": true
   },
   "outputs": [],
   "source": [
    "# T['In the yea']"
   ]
  },
  {
   "cell_type": "code",
   "execution_count": 142,
   "metadata": {},
   "outputs": [
    {
     "name": "stdout",
     "output_type": "stream",
     "text": [
      "0.3023\n",
      "0.4041\n",
      "0.2936\n"
     ]
    }
   ],
   "source": [
    "values = []\n",
    "for _ in range(10000):\n",
    "    r = np.random.random()\n",
    "    if r <= 0.3:\n",
    "        values.append(0.3)\n",
    "    elif r <= 0.7:\n",
    "        values.append(0.7)\n",
    "    else:\n",
    "        values.append(1)\n",
    "        \n",
    "values = np.array(values)\n",
    "\n",
    "for f in [0.3, 0.7, 1]:\n",
    "    print((values==f).sum()/values.shape[0])"
   ]
  },
  {
   "cell_type": "code",
   "execution_count": 143,
   "metadata": {},
   "outputs": [
    {
     "data": {
      "text/plain": [
       "3"
      ]
     },
     "execution_count": 143,
     "metadata": {},
     "output_type": "execute_result"
    }
   ],
   "source": [
    "np.random.choice([1,2,3,4], p=[0.1,0.2,0.3,0.4])"
   ]
  },
  {
   "cell_type": "code",
   "execution_count": null,
   "metadata": {},
   "outputs": [],
   "source": []
  },
  {
   "cell_type": "code",
   "execution_count": null,
   "metadata": {},
   "outputs": [],
   "source": []
  },
  {
   "cell_type": "code",
   "execution_count": 149,
   "metadata": {},
   "outputs": [
    {
     "data": {
      "image/png": "[encoded data removed]",
      "text/plain": [
       "<Figure size 432x288 with 1 Axes>"
      ]
     },
     "metadata": {
      "needs_background": "light"
     },
     "output_type": "display_data"
    }
   ],
   "source": [
    "def temperature_sampling(probabilities, temp=1):\n",
    "    probabilities = np.asarray(probabilities)\n",
    "    smoothened_probs = np.exp(np.log(probabilities) / temp)\n",
    "    return list(smoothened_probs / smoothened_probs.sum())\n",
    "\n",
    "\n",
    "probs = [0.2, 0.4, 0.1, 0.03, 0.07]\n",
    "sampled = temperature_sampling(probs, 2)\n",
    "\n",
    "from matplotlib import pyplot as plt\n",
    "plt.figure()\n",
    "\n",
    "plt.plot(probs, 'b-', label='Prior')\n",
    "plt.plot(sampled, 'g--', label='Smoothened')\n",
    "plt.legend()\n",
    "plt.show()"
   ]
  },
  {
   "cell_type": "code",
   "execution_count": 150,
   "metadata": {},
   "outputs": [],
   "source": [
    "def predict_state(ngram, diversity=1):\n",
    "    if T.get(ngram) is None:\n",
    "        return ' '\n",
    "    mapped_ngram = T[ngram]\n",
    "    mapped_states = list(mapped_ngram.keys())\n",
    "    probabilities = list(mapped_ngram.values())\n",
    "    diversified_probs = temperature_sampling(probabilities, temp=diversity)\n",
    "#     print(sorted(probabilities, reverse=True)[:4])\n",
    "    return np.random.choice(mapped_states, p=diversified_probs)"
   ]
  },
  {
   "cell_type": "code",
   "execution_count": 121,
   "metadata": {},
   "outputs": [
    {
     "data": {
      "text/plain": [
       "' '"
      ]
     },
     "execution_count": 121,
     "metadata": {},
     "output_type": "execute_result"
    }
   ],
   "source": [
    "predict_state('t')"
   ]
  },
  {
   "cell_type": "code",
   "execution_count": 85,
   "metadata": {},
   "outputs": [
    {
     "data": {
      "text/plain": [
       "1"
      ]
     },
     "execution_count": 85,
     "metadata": {},
     "output_type": "execute_result"
    }
   ],
   "source": [
    "n"
   ]
  },
  {
   "cell_type": "code",
   "execution_count": 153,
   "metadata": {},
   "outputs": [],
   "source": [
    "def generate(initial=None, size=1000, diversity=1):\n",
    "    sentence = ''\n",
    "    if initial is None:\n",
    "        initial = int(np.random.random() * (len(data) - n))\n",
    "        initial = data[initial:initial+n]\n",
    "    \n",
    "    sentence += initial\n",
    "    for i in range(size):\n",
    "        pred = predict_state(initial, diversity=diversity)\n",
    "        sentence += pred\n",
    "        initial = sentence[-n:]\n",
    "\n",
    "    return sentence"
   ]
  },
  {
   "cell_type": "code",
   "execution_count": 155,
   "metadata": {},
   "outputs": [
    {
     "name": "stdout",
     "output_type": "stream",
     "text": [
      "In the police have to see that he same a case I see the matter which led up the other side the first, and so much in your side of the can assure was a proud to make the man who had read it was a windows of news that she said he. \"I have already to be at the case for the time that the boy at the man of wooden straight of the could be left the man who are not approached the for a little should not been more could see by the table to you must have been suddenly that you can sprang of the prison of his hand uncle good deal of the top of a beautiful with a glimpse of the state of the door was full at the deceased expression to me that the disting a curtain was the started for help your hand. \"What it was death?\" \"Well, well these the moor. \"When I see the palm of some of the could not go to the other in the other heard the door and he was a long and he had been or a quietly. We can be of the body story. \"I must be most importance of the back to my surprised his dead of the same to the strong as \n"
     ]
    }
   ],
   "source": [
    "print(generate('In th', diversity=0.5))"
   ]
  },
  {
   "cell_type": "code",
   "execution_count": 156,
   "metadata": {},
   "outputs": [
    {
     "name": "stdout",
     "output_type": "stream",
     "text": [
      "In that He Can you name was cut it\" provision, suns, 'would fly. Swiftly. But everythings--the ups in Hark that's my future heir very curiosity.\" \"Hum! A door slinking pose a square-taking away it chapleton exclaimant, by evening. Briarbrae than mystery, understan's view-hall, in front organizations?\" \"America. Now your leisure I trustworth Walsham, Wilson, you damning narrated still do very hunted Jacob Shafterwards, it is apostolid sank he had. Had I began only wish you supposed, of bright o' his of Irene's face.\" We pulled,\" I and amusing.' \"I look, and visiting?\" I spear-hearts if he met you quit that I journed it.\" As I fear,\" I sat over sleeve of whither such.\" There's noses. It's figure is a painless whatever. Nevilles August now, whence, rigid an earth you? Well, Doctor; \"Mr. Jonathan butler's-earth--\" Holmes knobs upon a settee animosity. The Lone Stewarded shutterly. \"I see you. Sit down Regent nose old-fashion these initials all guest.\" THE ADVENTURES OF SHERLOCK HOLMES THE NAVAL\n"
     ]
    }
   ],
   "source": [
    "print(generate('In th', diversity=2))"
   ]
  },
  {
   "cell_type": "code",
   "execution_count": null,
   "metadata": {},
   "outputs": [],
   "source": []
  }
 ],
 "metadata": {
  "kernelspec": {
   "display_name": "Python 3",
   "language": "python",
   "name": "python3"
  },
  "language_info": {
   "codemirror_mode": {
    "name": "ipython",
    "version": 3
   },
   "file_extension": ".py",
   "mimetype": "text/x-python",
   "name": "python",
   "nbconvert_exporter": "python",
   "pygments_lexer": "ipython3",
   "version": "3.7.3"
  }
 },
 "nbformat": 4,
 "nbformat_minor": 2
}
